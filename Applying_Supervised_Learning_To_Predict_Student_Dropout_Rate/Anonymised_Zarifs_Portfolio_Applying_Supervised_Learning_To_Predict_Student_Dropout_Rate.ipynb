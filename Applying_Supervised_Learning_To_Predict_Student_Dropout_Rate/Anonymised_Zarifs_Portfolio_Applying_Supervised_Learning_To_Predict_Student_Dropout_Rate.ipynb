{
  "cells": [
    {
      "cell_type": "markdown",
      "metadata": {
        "id": "9j5Bse6izKKh"
      },
      "source": [
        "# **Applying supervised learning to predict student dropout rate**\n",
        "\n",
        "In this project, I examine student data and use supervised learning techniques to predict whether a student will drop out. In the education sector, retaining students is vital for the institution's financial stability and for students’ academic success and personal development. A high dropout rate can lead to significant revenue loss, diminished institutional reputation, and lower overall student satisfaction.\n",
        "\n",
        "Approximately **12 hours** for this project.\n",
        "\n",
        "<br>\n",
        "\n",
        "## **Business context**\n",
        "An un-named education provider specialises in providing educational services and resources to students and professionals across various fields. The company's primary focus is on enhancing learning experiences through a range of services. By leveraging cutting-edge technology and a team of experienced educators, they aim to bridge the gap between traditional learning methods and the evolving needs of today's learners.\n",
        "\n",
        "It works closely with university faculty and staff to ensure that the universities are prepared and equipped to welcome and support a growing international student body enabling a seamless transition into their chosen academic environment.\n",
        "\n",
        "Its partners with universities with the aim of preparing a pipeline of talented international students from diverse backgrounds for degree study. Aiming to help international students adapt to the academic, cultural, and social aspects of studying abroad. This is achieved by improving conversational and subject-specific language skills and academic readiness before students progress to a full degree programme at university.\n",
        "\n",
        "Through its comprehensive suite of services, it supports learners and universities at every stage of their educational journey, from high school to postgraduate studies. Its approach is tailored to meet the unique needs of each learner, offering personalised learning paths and flexible scheduling options to accommodate various learning styles and commitments.\n",
        "\n",
        "Designed to be accessible and affordable, making quality education a reality for many individuals. By focusing on the integration of technology and personalised learning, the company aims to empower learners to achieve their full potential and succeed in their academic and professional pursuits. This education provider is at the forefront of transforming how people learn and grow through its dedication to innovation and excellence.\n",
        "\n",
        "<br>\n",
        "\n",
        "## **Objective**\n",
        "To apply advanced machine learning techniques to create a predictive model for student dropout. This project will involve comprehensive data exploration, preprocessing, and feature engineering to ensure high-quality input for the models. Employing and comparing multiple predictive algorithms - XGBoost and neural network-based model, to determine the most effective model for predicting student dropout.\n",
        "\n",
        "Including:\n",
        "- exploring the data set\n",
        "- preprocessing the data and conduct feature engineering\n",
        "- predicting dropout using XGBoost and a neural network-based model\n",
        "- Identifying the most important predictors of dropout.\n",
        "\n",
        "<br>\n",
        "\n",
        "## **What this project demonstrates**\n",
        "- That I can develop accurate predictions across diverse organisational scenarios by building and testing advanced machine learning models\n",
        "- Am able to inform data-driven decision-making with advanced machine learning algorithms and models\n",
        "- Can propose and present effective solutions to organisational problems using data preprocessing, model selection, and insightful analysis techniques."
      ]
    },
    {
      "cell_type": "markdown",
      "metadata": {
        "id": "bulAikgSzGHM"
      },
      "source": [
        "# 1. Importing relevant libraries and load the data"
      ]
    },
    {
      "cell_type": "code",
      "execution_count": null,
      "metadata": {
        "id": "MLgu7oCVPe6k"
      },
      "outputs": [],
      "source": [
        "import pandas as pd\n",
        "import numpy as np\n",
        "import matplotlib.pyplot as plt\n",
        "import seaborn as sns\n",
        "from sklearn.preprocessing import StandardScaler\n",
        "from sklearn.model_selection import train_test_split\n",
        "from sklearn.metrics import accuracy_score, confusion_matrix, precision_score, recall_score, roc_auc_score\n",
        "import xgboost as xgb\n",
        "from sklearn.model_selection import GridSearchCV\n",
        "from sklearn.ensemble import RandomForestClassifier\n",
        "import matplotlib.pyplot as plt"
      ]
    },
    {
      "cell_type": "code",
      "execution_count": null,
      "metadata": {
        "id": "tReFjINDvfOG"
      },
      "outputs": [],
      "source": [
        "from datetime import datetime"
      ]
    },
    {
      "cell_type": "code",
      "execution_count": null,
      "metadata": {
        "id": "UVQzA1347DN6"
      },
      "outputs": [],
      "source": [
        "import tensorflow as tf\n",
        "from tensorflow.keras.models import Model\n",
        "from tensorflow.keras.layers import Input, Dense\n",
        "from sklearn.base import BaseEstimator, ClassifierMixin\n",
        "from sklearn.model_selection import GridSearchCV\n",
        "from tensorflow.keras.optimizers import Adam, RMSprop"
      ]
    },
    {
      "cell_type": "code",
      "execution_count": null,
      "metadata": {
        "colab": {
          "base_uri": "https://localhost:8080/"
        },
        "id": "G4w9VEMa2RMI",
        "outputId": "8a08e1b2-9a90-4993-a595-c9e9259c4dd0"
      },
      "outputs": [
        {
          "output_type": "stream",
          "name": "stdout",
          "text": [
            "Collecting category_encoders\n",
            "  Downloading category_encoders-2.6.3-py2.py3-none-any.whl.metadata (8.0 kB)\n",
            "Requirement already satisfied: numpy>=1.14.0 in /usr/local/lib/python3.10/dist-packages (from category_encoders) (1.25.2)\n",
            "Requirement already satisfied: scikit-learn>=0.20.0 in /usr/local/lib/python3.10/dist-packages (from category_encoders) (1.3.2)\n",
            "Requirement already satisfied: scipy>=1.0.0 in /usr/local/lib/python3.10/dist-packages (from category_encoders) (1.13.1)\n",
            "Requirement already satisfied: statsmodels>=0.9.0 in /usr/local/lib/python3.10/dist-packages (from category_encoders) (0.14.2)\n",
            "Requirement already satisfied: pandas>=1.0.5 in /usr/local/lib/python3.10/dist-packages (from category_encoders) (2.0.3)\n",
            "Requirement already satisfied: patsy>=0.5.1 in /usr/local/lib/python3.10/dist-packages (from category_encoders) (0.5.6)\n",
            "Requirement already satisfied: python-dateutil>=2.8.2 in /usr/local/lib/python3.10/dist-packages (from pandas>=1.0.5->category_encoders) (2.8.2)\n",
            "Requirement already satisfied: pytz>=2020.1 in /usr/local/lib/python3.10/dist-packages (from pandas>=1.0.5->category_encoders) (2024.1)\n",
            "Requirement already satisfied: tzdata>=2022.1 in /usr/local/lib/python3.10/dist-packages (from pandas>=1.0.5->category_encoders) (2024.1)\n",
            "Requirement already satisfied: six in /usr/local/lib/python3.10/dist-packages (from patsy>=0.5.1->category_encoders) (1.16.0)\n",
            "Requirement already satisfied: joblib>=1.1.1 in /usr/local/lib/python3.10/dist-packages (from scikit-learn>=0.20.0->category_encoders) (1.4.2)\n",
            "Requirement already satisfied: threadpoolctl>=2.0.0 in /usr/local/lib/python3.10/dist-packages (from scikit-learn>=0.20.0->category_encoders) (3.5.0)\n",
            "Requirement already satisfied: packaging>=21.3 in /usr/local/lib/python3.10/dist-packages (from statsmodels>=0.9.0->category_encoders) (24.1)\n",
            "Downloading category_encoders-2.6.3-py2.py3-none-any.whl (81 kB)\n",
            "\u001b[2K   \u001b[90m━━━━━━━━━━━━━━━━━━━━━━━━━━━━━━━━━━━━━━━━\u001b[0m \u001b[32m81.9/81.9 kB\u001b[0m \u001b[31m3.3 MB/s\u001b[0m eta \u001b[36m0:00:00\u001b[0m\n",
            "\u001b[?25hInstalling collected packages: category_encoders\n",
            "Successfully installed category_encoders-2.6.3\n"
          ]
        }
      ],
      "source": [
        "!pip install category_encoders\n",
        "from category_encoders import BinaryEncoder"
      ]
    },
    {
      "cell_type": "code",
      "execution_count": null,
      "metadata": {
        "id": "lTCSt-J5RRmL"
      },
      "outputs": [],
      "source": [
        "from sklearn.metrics import (roc_auc_score, accuracy_score,\n",
        "                              classification_report, precision_score,\n",
        "                              confusion_matrix, ConfusionMatrixDisplay)"
      ]
    },
    {
      "cell_type": "code",
      "execution_count": null,
      "metadata": {
        "id": "tYVq7RcMB_U5"
      },
      "outputs": [],
      "source": [
        "from tensorflow.keras.optimizers import SGD, SGD as SGD_with_Momentum, RMSprop, Adam, Adamax, Nadam\n",
        "from sklearn.metrics import precision_score, recall_score, f1_score"
      ]
    },
    {
      "cell_type": "code",
      "execution_count": null,
      "metadata": {
        "colab": {
          "base_uri": "https://localhost:8080/"
        },
        "id": "2IBleNt6wXBS",
        "outputId": "049fb8c9-45d1-4a85-8a49-ece4074990f1"
      },
      "outputs": [
        {
          "output_type": "stream",
          "name": "stderr",
          "text": [
            "Downloading...\n",
            "From: https://drive.google.com/uc?id=1-9zM5rwmMEoSJowAvgex8XfIqU7C80-G\n",
            "To: /content/CourseLevelDatasetVersion2.csv\n",
            "100%|██████████| 9.01M/9.01M [00:00<00:00, 67.6MB/s]\n"
          ]
        },
        {
          "output_type": "execute_result",
          "data": {
            "text/plain": [
              "'CourseLevelDatasetVersion2.csv'"
            ],
            "application/vnd.google.colaboratory.intrinsic+json": {
              "type": "string"
            }
          },
          "metadata": {},
          "execution_count": 7
        }
      ],
      "source": [
        "import gdown\n",
        "destination = '.csv'\n",
        "\n",
        "# Construct the download URL\n",
        "download_url = f''\n",
        "\n",
        "# Download the file using gdown\n",
        "gdown.download(download_url, destination, quiet=False)"
      ]
    },
    {
      "cell_type": "code",
      "execution_count": null,
      "metadata": {
        "collapsed": true,
        "id": "5QcyXAW8pg05"
      },
      "outputs": [],
      "source": [
        "df_raw = pd.read_csv('CourseLevelDatasetVersion2.csv')"
      ]
    },
    {
      "cell_type": "code",
      "execution_count": null,
      "metadata": {
        "id": "h6LtUL8dpqka"
      },
      "outputs": [],
      "source": [
        "df_raw.head(3)"
      ]
    },
    {
      "cell_type": "code",
      "execution_count": null,
      "metadata": {
        "id": "uS7JTQr9qtsX"
      },
      "outputs": [],
      "source": [
        "print(df_raw.shape)\n",
        "print(df_raw.info())"
      ]
    },
    {
      "cell_type": "markdown",
      "metadata": {
        "id": "MR6k7mhQp9SA"
      },
      "source": [
        "looks like nulls present in - DiscountType, HomeCountry, HomeState, HomeCity, NonCompletionReason, TerminationDate, AssessedModules, PassedModules, FailedModules, CreditWeightedAverage, ProgressionDegree, PresentCount, LateCount, AuthorisedAbsenceCount, UnauthorisedAbsenceCount, ContactHours, AttendancePercentage                       "
      ]
    },
    {
      "cell_type": "markdown",
      "metadata": {
        "id": "JaxscsYekRa9"
      },
      "source": [
        "# 2. Data preparation/Data pre-processing & Feature Engineering\n",
        "\n",
        "droppping irrelevant columns, converting data to the correct dtypes"
      ]
    },
    {
      "cell_type": "markdown",
      "metadata": {
        "id": "P6pNDOVIznW7"
      },
      "source": [
        "## 2.1 Dropping columns, nulls and EDA"
      ]
    },
    {
      "cell_type": "code",
      "execution_count": null,
      "metadata": {
        "id": "5HMYvrX5rCEe"
      },
      "outputs": [],
      "source": [
        "# Columns to drop as specified in the project outline\n",
        "\n",
        "columns_to_drop = ['BookingId','BookingType', 'LeadSource', 'DiscountType',\n",
        "                   'Nationality', 'HomeCountry', 'HomeState', 'HomeCity',\n",
        "                   'PresentCount', 'LateCount', 'AuthorisedAbsenceCount',\n",
        "                   'ArrivedDate','NonCompletionReason', 'TerminationDate',\n",
        "                   'CourseFirstIntakeDate', 'CourseStartDate','CourseEndDate',\n",
        "                   'AcademicYear', 'CourseName', 'LearnerCode', 'ProgressionDegree',\n",
        "                   'EligibleToProgress', 'AssessedModules', 'PassedModules',\n",
        "                   'FailedModules', 'AttendancePercentage', 'ContactHours']\n",
        "\n",
        "df = df_raw.drop(columns=columns_to_drop)"
      ]
    },
    {
      "cell_type": "code",
      "execution_count": null,
      "metadata": {
        "id": "XMqxzFOSrkx4"
      },
      "outputs": [],
      "source": [
        "print(df.shape)\n",
        "print(df.info())"
      ]
    },
    {
      "cell_type": "markdown",
      "metadata": {
        "id": "-KtPlKairnBa"
      },
      "source": [
        "Nulls present in only 2 columns now: CreditWeightedAverage, UnauthorisedAbsenceCount"
      ]
    },
    {
      "cell_type": "code",
      "execution_count": null,
      "metadata": {
        "id": "ckSz5YgRtvFv"
      },
      "outputs": [],
      "source": [
        "print((25059-22763)/25059) # Percentage of nulls in CreditWeightedAverage\n",
        "print((25059-24851)/25059) # Percentage of nulls in UnauthorisedAbsenceCount"
      ]
    },
    {
      "cell_type": "code",
      "execution_count": null,
      "metadata": {
        "id": "inhbCdbZs1U0"
      },
      "outputs": [],
      "source": [
        "# dropping nulls\n",
        "df = df.dropna(subset=['CreditWeightedAverage', 'UnauthorisedAbsenceCount'])\n",
        "print(df.isnull().any().any())\n",
        "print(df.info())"
      ]
    },
    {
      "cell_type": "code",
      "source": [
        "# couldve added\n",
        "\n",
        "print(df.isnull().sum(), \"\\n\")\n",
        "\n",
        "print(df.isnull().sum()/len(df))\n",
        "\n",
        "print(\"\\nUnique value counts: \\n\", df.nunique())\n",
        "print(\"\\nNull values: \\n\", df.isna().sum())"
      ],
      "metadata": {
        "id": "i8ARBC9_L-TG"
      },
      "execution_count": null,
      "outputs": []
    },
    {
      "cell_type": "code",
      "execution_count": null,
      "metadata": {
        "id": "B58T_QZArhoU"
      },
      "outputs": [],
      "source": [
        "df.head(3)\n",
        "\n",
        "df.head(2)"
      ]
    },
    {
      "cell_type": "code",
      "source": [
        "display(df.head(3))\n",
        "\n",
        "display(df.head(1))"
      ],
      "metadata": {
        "id": "oZsa3kgmMu1i"
      },
      "execution_count": null,
      "outputs": []
    },
    {
      "cell_type": "code",
      "execution_count": null,
      "metadata": {
        "id": "VTzDI9Mtp4fV"
      },
      "outputs": [],
      "source": [
        "df.describe()"
      ]
    },
    {
      "cell_type": "code",
      "execution_count": null,
      "metadata": {
        "id": "o6trIREMn--w"
      },
      "outputs": [],
      "source": [
        "plt.figure(figsize=(10, 6))\n",
        "sns.boxplot(x='CompletedCourse', y='CreditWeightedAverage', data=df)\n",
        "plt.title('Credit Weighted Average by Course Completion Status')\n",
        "plt.xlabel('Completed Course')\n",
        "plt.ylabel('Credit Weighted Average')\n",
        "plt.show()"
      ]
    },
    {
      "cell_type": "code",
      "execution_count": null,
      "metadata": {
        "id": "B_z7hvTPoHDx"
      },
      "outputs": [],
      "source": [
        "plt.figure(figsize=(10, 6))\n",
        "sns.boxplot(x='CompletedCourse', y='UnauthorisedAbsenceCount', data=df)\n",
        "plt.title('Unauthorised Absence Count by Course Completion Status')\n",
        "plt.xlabel('Completed Course')\n",
        "plt.ylabel('Unauthorised Absence Count')\n",
        "plt.show()"
      ]
    },
    {
      "cell_type": "markdown",
      "metadata": {
        "id": "Mj5xPAXMpVLH"
      },
      "source": [
        "Looking at the first 2 box plots we can see that those who completed the course had a higher score and also less unauthorised absences. Wheras those who did not had the opposite relationship"
      ]
    },
    {
      "cell_type": "code",
      "execution_count": null,
      "metadata": {
        "id": "bw06--RcpMZ9"
      },
      "outputs": [],
      "source": [
        "plt.figure(figsize=(12, 6))\n",
        "sns.boxplot(x='Gender', y='CreditWeightedAverage', hue='CompletedCourse', data=df)\n",
        "plt.title('Credit Weighted Average by Gender and Course Completion Status')\n",
        "plt.xlabel('Gender')\n",
        "plt.ylabel('Credit Weighted Average')\n",
        "plt.legend(title='Completed Course')\n",
        "plt.show()"
      ]
    },
    {
      "cell_type": "code",
      "execution_count": null,
      "metadata": {
        "id": "Gt_c-xKppQTh"
      },
      "outputs": [],
      "source": [
        "plt.figure(figsize=(12, 6))\n",
        "sns.boxplot(x='Gender', y='UnauthorisedAbsenceCount', hue='CompletedCourse', data=df)\n",
        "plt.title('Unauthorised Absence Count by Gender and Course Completion Status')\n",
        "plt.xlabel('Gender')\n",
        "plt.ylabel('Unauthorised Absence Count')\n",
        "plt.legend(title='Completed Course')\n",
        "plt.show()"
      ]
    },
    {
      "cell_type": "markdown",
      "metadata": {
        "id": "9yyg8-Depsc_"
      },
      "source": [
        "No relationship between M/F scores and absences"
      ]
    },
    {
      "cell_type": "code",
      "source": [
        "# View distributions of numerical features\n",
        "df.hist(figsize=(10,4))\n",
        "plt.show()"
      ],
      "metadata": {
        "id": "HmRdi9VXJxVX"
      },
      "execution_count": null,
      "outputs": []
    },
    {
      "cell_type": "markdown",
      "source": [
        "## Categorical features"
      ],
      "metadata": {
        "id": "opbBIDtTJ3sm"
      }
    },
    {
      "cell_type": "code",
      "source": [
        "# View plots of categorical variables coloured by completedcourse\n",
        "categorical_columns_1 = ['CentreName', 'ProgressionUniversity']\n",
        "\n",
        "# Create figure\n",
        "fig, axes = plt.subplots(nrows=len(categorical_columns_1), figsize=(15, 15))\n",
        "\n",
        "# Plot each categorical column coloured by 'CompletedCourse'\n",
        "for i, col in enumerate(categorical_columns_1):\n",
        "    sns.countplot(x=col, hue='CompletedCourse', data=df, ax=axes[i])\n",
        "    axes[i].set_title(f'{col}')\n",
        "    axes[i].set_xlabel(col)\n",
        "    axes[i].set_ylabel('Count')\n",
        "    axes[i].legend(title='CompletedCourse', loc='upper right')\n",
        "    axes[i].tick_params(axis='x', rotation=90)\n",
        "\n",
        "plt.tight_layout()\n",
        "plt.show()\n",
        "\n",
        "\n",
        "categorical_columns_2 = ['Gender', 'CourseLevel', 'IsFirstIntake']\n",
        "fig, axes = plt.subplots(nrows=len(categorical_columns_2), figsize=(8, 8))\n",
        "\n",
        "# Plot each categorical column coloured by 'CompletedCourse'\n",
        "for i, col in enumerate(categorical_columns_2):\n",
        "    sns.countplot(x=col, hue='CompletedCourse', data=df, ax=axes[i])\n",
        "    axes[i].set_title(f'{col}')\n",
        "    axes[i].set_xlabel(col)\n",
        "    axes[i].set_ylabel('Count')\n",
        "    axes[i].legend(title='CompletedCourse', loc='upper right')\n",
        "\n",
        "plt.tight_layout()\n",
        "plt.show()\n"
      ],
      "metadata": {
        "id": "VylZqjPgJ3Nh"
      },
      "execution_count": null,
      "outputs": []
    },
    {
      "cell_type": "markdown",
      "metadata": {
        "id": "aIZxh0IIzdYJ"
      },
      "source": [
        "## 2.2 Convert target column via binary encoding\n",
        "\n",
        "This is because the target is mutually exclusive and there is no preferred order, classification probelm so true/false / 0/1"
      ]
    },
    {
      "cell_type": "code",
      "execution_count": null,
      "metadata": {
        "colab": {
          "base_uri": "https://localhost:8080/"
        },
        "id": "XGmAN0aAqE8t",
        "outputId": "0cc1214e-2871-48fd-d51e-5878b51e5bd1"
      },
      "outputs": [
        {
          "output_type": "execute_result",
          "data": {
            "text/plain": [
              "\"\\n\\ndf[CompletedCourseBinary] = df['CompletedCourse'].apply(lambda x: 1 if x == 'Yes' else 0)\\n\\n\""
            ],
            "application/vnd.google.colaboratory.intrinsic+json": {
              "type": "string"
            }
          },
          "metadata": {},
          "execution_count": 37
        }
      ],
      "source": [
        "\"\"\"\n",
        "\n",
        "df[CompletedCourseBinary] = df['CompletedCourse'].apply(lambda x: 1 if x == 'Yes' else 0)\n",
        "\n",
        "\"\"\""
      ]
    },
    {
      "cell_type": "code",
      "execution_count": null,
      "metadata": {
        "id": "44hH6dOa2dRQ"
      },
      "outputs": [],
      "source": [
        "encoder = BinaryEncoder(cols=['CompletedCourse']) # better for productionisation compared to where df[] python usage\n",
        "df_target_encoded = encoder.fit_transform(df)\n",
        "df_target_encoded.head(2)\n",
        "\n",
        "# 1 = YES = they did in fact complete the course i.e true\n",
        "# 0 = no = they did not in face complete the course i.e false\n",
        "# np.where( df[\"col\"] == \"Yes\", 1, 0)"
      ]
    },
    {
      "cell_type": "code",
      "execution_count": null,
      "metadata": {
        "id": "_zTmUSze8WCn"
      },
      "outputs": [],
      "source": [
        "# drop extra column so one column for target\n",
        "df_target_encoded = df_target_encoded.drop(columns=['CompletedCourse_1'])"
      ]
    },
    {
      "cell_type": "code",
      "execution_count": null,
      "metadata": {
        "id": "MVntTCFDzuis"
      },
      "outputs": [],
      "source": [
        "#df_target_encoded = pd.get_dummies(df, columns=['CompletedCourse'])"
      ]
    },
    {
      "cell_type": "code",
      "execution_count": null,
      "metadata": {
        "id": "aup60KBeGSyG"
      },
      "outputs": [],
      "source": [
        "df_target_encoded.head(2)"
      ]
    },
    {
      "cell_type": "markdown",
      "metadata": {
        "id": "hkNZWSqL4H9W"
      },
      "source": [
        "## 2.3 One hot encode catgeorical columns\n",
        "\n",
        "Nominal Data that is mutually exclusive but there is no preferred order"
      ]
    },
    {
      "cell_type": "code",
      "execution_count": null,
      "metadata": {
        "id": "UH30doaj0qON"
      },
      "outputs": [],
      "source": [
        "# Select columns that I want to onehot encode\n",
        "columns_to_ohe = ['CentreName', 'Gender', 'CourseLevel', 'IsFirstIntake', 'ProgressionUniversity']\n",
        "\n",
        "# One-hot encode the selected columns\n",
        "df_ohe = pd.get_dummies(df_target_encoded, columns=columns_to_ohe)"
      ]
    },
    {
      "cell_type": "code",
      "execution_count": null,
      "metadata": {
        "id": "V6XLokqP6KTT"
      },
      "outputs": [],
      "source": [
        "df_ohe.head(2)"
      ]
    },
    {
      "cell_type": "markdown",
      "metadata": {
        "id": "0pD7RAXy5x-G"
      },
      "source": [
        "## 2.4 Convert DateofBirth to age"
      ]
    },
    {
      "cell_type": "code",
      "execution_count": null,
      "metadata": {
        "id": "sDPPeFUP6bQu"
      },
      "outputs": [],
      "source": [
        "df_encoded = df_ohe.copy()"
      ]
    },
    {
      "cell_type": "code",
      "execution_count": null,
      "metadata": {
        "id": "ZqCJepvr6t4Q"
      },
      "outputs": [],
      "source": [
        "df_encoded.head(2)"
      ]
    },
    {
      "cell_type": "code",
      "execution_count": null,
      "metadata": {
        "id": "vCRU6b73vNlF"
      },
      "outputs": [],
      "source": [
        "# Function to calculate age\n",
        "def calculate_age(born):\n",
        "    today = datetime.today()\n",
        "    return today.year - born.year - ((today.month, today.day) < (born.month, born.day))\n",
        "\n",
        "# Convert 'DateofBirth' column to datetime\n",
        "df_encoded['DateofBirth'] = pd.to_datetime(df_encoded['DateofBirth'], format='%d/%m/%Y')\n",
        "\n",
        "# Apply the function to calculate age\n",
        "df_encoded['Age'] = df_encoded['DateofBirth'].apply(calculate_age)"
      ]
    },
    {
      "cell_type": "code",
      "execution_count": null,
      "metadata": {
        "id": "Eg1S5RBZvYcs"
      },
      "outputs": [],
      "source": [
        "df_encoded = df_encoded.drop(columns=['DateofBirth'])"
      ]
    },
    {
      "cell_type": "code",
      "execution_count": null,
      "metadata": {
        "id": "Lpf_APX-wwt6"
      },
      "outputs": [],
      "source": [
        "df_encoded.head(2)"
      ]
    },
    {
      "cell_type": "markdown",
      "metadata": {
        "id": "IHxPFGmgxSNd"
      },
      "source": [
        "## 2.5 Scaling of numerical data + train test split\n",
        "\n",
        "First lets split my target and feature columns to avoid data leakage as will need to scale the data\n",
        "\n",
        "Apply 80-20 split"
      ]
    },
    {
      "cell_type": "code",
      "execution_count": null,
      "metadata": {
        "id": "DwN4KNAB9ORD"
      },
      "outputs": [],
      "source": [
        "X = df_encoded.drop(columns=['CompletedCourse_0'])\n",
        "y = df_encoded['CompletedCourse_0']"
      ]
    },
    {
      "cell_type": "code",
      "execution_count": null,
      "metadata": {
        "id": "QNC-qnn6xZJT"
      },
      "outputs": [],
      "source": [
        "# First split: into training and test sets\n",
        "X_train, X_test, y_train, y_test = train_test_split(X, y, test_size=0.2, random_state=42)\n",
        "\n",
        "#X_train_full, X_test, y_train_full, y_test = train_test_split(X, y, test_size=0.2, random_state=42)\n",
        "\n",
        "# Second split: into training and validation sets\n",
        "#X_train, X_val, y_train, y_val = train_test_split(X_train_full, y_train_full, test_size=0.1, random_state=42)"
      ]
    },
    {
      "cell_type": "markdown",
      "metadata": {
        "id": "wClUfaUTAqEH"
      },
      "source": [
        "Using Standardisation rather than normalisation because I will be using XGboost which is a gradient based optimisation method which is sensitive to the scale of the data! - same for decision trees and RFs"
      ]
    },
    {
      "cell_type": "code",
      "execution_count": null,
      "metadata": {
        "id": "qmQtrTQkBFA2"
      },
      "outputs": [],
      "source": [
        "scaler = StandardScaler()\n",
        "X_train= scaler.fit_transform(X_train)\n",
        "X_test = scaler.transform(X_test)\n",
        "#X_val = scaler.transform(X_val)"
      ]
    },
    {
      "cell_type": "code",
      "execution_count": null,
      "metadata": {
        "id": "K1Is9vfH9vih"
      },
      "outputs": [],
      "source": [
        "X_train"
      ]
    },
    {
      "cell_type": "code",
      "execution_count": null,
      "metadata": {
        "id": "AIM0vZNcC4ix"
      },
      "outputs": [],
      "source": [
        "y"
      ]
    },
    {
      "cell_type": "code",
      "execution_count": null,
      "metadata": {
        "id": "48twJlDJBfdU"
      },
      "outputs": [],
      "source": [
        "y.value_counts()"
      ]
    },
    {
      "cell_type": "code",
      "source": [
        "print((y.value_counts() / y.value_counts().sum()) * 100)"
      ],
      "metadata": {
        "id": "qwxC9G5qV8Ys"
      },
      "execution_count": null,
      "outputs": []
    },
    {
      "cell_type": "code",
      "source": [
        "print((y.value_counts(normalize = True)) * 100)"
      ],
      "metadata": {
        "id": "6FF46LZnO_Le"
      },
      "execution_count": null,
      "outputs": []
    },
    {
      "cell_type": "markdown",
      "metadata": {
        "id": "MAHVJ2deDgxk"
      },
      "source": [
        "The data is indeed imbalanced"
      ]
    },
    {
      "cell_type": "code",
      "execution_count": null,
      "metadata": {
        "id": "HiVK2ioXFwnE"
      },
      "outputs": [],
      "source": [
        "df_encoded.head(2)"
      ]
    },
    {
      "cell_type": "markdown",
      "metadata": {
        "id": "IlLa4Y_p28Jp"
      },
      "source": [
        "## 2.6 Redo feature engineering so I have a separate data set with extra features"
      ]
    },
    {
      "cell_type": "code",
      "execution_count": null,
      "metadata": {
        "id": "HWidpJO1guNw"
      },
      "outputs": [],
      "source": [
        "# Columns to drop as specified in the rubric\n",
        "\n",
        "columns_to_drop = ['BookingId','BookingType', 'LeadSource', 'DiscountType',\n",
        "                   'Nationality', 'HomeCountry', 'HomeState', 'HomeCity',\n",
        "                   'PresentCount', 'LateCount', 'AuthorisedAbsenceCount',\n",
        "                   'ArrivedDate','NonCompletionReason', 'TerminationDate',\n",
        "                   'CourseFirstIntakeDate', 'CourseStartDate','CourseEndDate',\n",
        "                   'AcademicYear', 'CourseName', 'LearnerCode', 'ProgressionDegree',\n",
        "                   'EligibleToProgress', 'AssessedModules', 'PassedModules',\n",
        "                   'FailedModules']\n",
        "\n",
        "df_additional_features = df_raw.drop(columns=columns_to_drop)"
      ]
    },
    {
      "cell_type": "code",
      "execution_count": null,
      "metadata": {
        "id": "dqSM7QuJlH-O"
      },
      "outputs": [],
      "source": [
        "df_additional_features[['ContactHours', 'AttendancePercentage']].head(5)"
      ]
    },
    {
      "cell_type": "code",
      "execution_count": null,
      "metadata": {
        "id": "OgQiwoAdls6n"
      },
      "outputs": [],
      "source": [
        "print(df_additional_features.shape)\n",
        "print(df_additional_features.info())\n",
        "print(df_additional_features.isnull().any().any())"
      ]
    },
    {
      "cell_type": "code",
      "source": [
        "# Set the aesthetic style of the plots\n",
        "sns.set(style=\"white\")\n",
        "\n",
        "# Create a figure and axes to plot on\n",
        "fig, axes = plt.subplots(1, 2, figsize=(14, 6))\n",
        "\n",
        "# Plot for ContactHours\n",
        "sns.boxplot(x='CompletedCourse', y='ContactHours', data=df_additional_features, ax=axes[0])\n",
        "axes[0].set_title('Contact Hours by Course Completion')\n",
        "axes[0].set_xlabel('Completed Course')\n",
        "axes[0].set_ylabel('Contact Hours')\n",
        "\n",
        "# Plot for AttendancePercentage\n",
        "sns.boxplot(x='CompletedCourse', y='AttendancePercentage', data=df_additional_features, ax=axes[1])\n",
        "axes[1].set_title('Attendance Percentage by Course Completion')\n",
        "axes[1].set_xlabel('Completed Course')\n",
        "axes[1].set_ylabel('Attendance Percentage')\n",
        "\n",
        "# Adjust the layout to make room for the titles and labels\n",
        "plt.tight_layout()\n",
        "\n",
        "# Show the plot\n",
        "plt.show()"
      ],
      "metadata": {
        "id": "DIGDuXeMRQIP"
      },
      "execution_count": null,
      "outputs": []
    },
    {
      "cell_type": "code",
      "execution_count": null,
      "metadata": {
        "id": "LUV-JMzWlwTP"
      },
      "outputs": [],
      "source": [
        "# Nulls present in, CreditWeightedAverage, UnauthorisedAbsenceCount, ContactHours, AttendancePercentage"
      ]
    },
    {
      "cell_type": "code",
      "execution_count": null,
      "metadata": {
        "id": "o1ed8-7AmsbS"
      },
      "outputs": [],
      "source": [
        "# dropping nulls\n",
        "df_additional_features = df_additional_features.dropna(subset=['CreditWeightedAverage', 'UnauthorisedAbsenceCount', 'ContactHours', 'AttendancePercentage'])\n",
        "print(df_additional_features.shape)\n",
        "print(df_additional_features.info())\n",
        "print(df_additional_features.isnull().any().any())"
      ]
    },
    {
      "cell_type": "code",
      "execution_count": null,
      "metadata": {
        "id": "_s7iYKPsjZXi"
      },
      "outputs": [],
      "source": [
        "encoder = BinaryEncoder(cols=['CompletedCourse'])\n",
        "df_target_encoded = encoder.fit_transform(df_additional_features)\n",
        "# drop extra column so one column for target\n",
        "df_target_encoded = df_target_encoded.drop(columns=['CompletedCourse_1'])\n",
        "# Select columns that I want to onehot encode\n",
        "columns_to_ohe = ['CentreName', 'Gender', 'CourseLevel', 'IsFirstIntake', 'ProgressionUniversity']\n",
        "\n",
        "# One-hot encode the selected columns\n",
        "df_ohe = pd.get_dummies(df_target_encoded, columns=columns_to_ohe)\n",
        "df_encoded = df_ohe.copy()\n",
        "\n",
        "# Function to calculate age\n",
        "def calculate_age(born):\n",
        "    today = datetime.today()\n",
        "    return today.year - born.year - ((today.month, today.day) < (born.month, born.day))\n",
        "\n",
        "# Convert 'DateofBirth' column to datetime\n",
        "df_encoded['DateofBirth'] = pd.to_datetime(df_encoded['DateofBirth'], format='%d/%m/%Y')\n",
        "\n",
        "# Apply the function to calculate age\n",
        "df_encoded['Age'] = df_encoded['DateofBirth'].apply(calculate_age)\n",
        "\n",
        "df_encoded = df_encoded.drop(columns=['DateofBirth'])\n",
        "\n",
        "X_additional_features = df_encoded.drop(columns=['CompletedCourse_0'])\n",
        "y = df_encoded['CompletedCourse_0']\n",
        "\n",
        "X_train_additional_features, X_test_additional_features, y_train, y_test = train_test_split(X_additional_features, y, test_size=0.2, random_state=42)\n",
        "\n",
        "scaler = StandardScaler()\n",
        "X_train_additional_features = scaler.fit_transform(X_train_additional_features)\n",
        "X_test_additional_features = scaler.transform(X_test_additional_features)"
      ]
    },
    {
      "cell_type": "code",
      "source": [
        "data_for_coeff_matrix = df_target_encoded[['IsFirstIntake', 'CreditWeightedAverage', 'UnauthorisedAbsenceCount', 'CompletedCourse_0', 'ContactHours', 'AttendancePercentage']]\n",
        "\n",
        "# Calculate the Spearman correlation matrix\n",
        "corr_matrix_spearman = data_for_coeff_matrix.corr(method='spearman')\n",
        "\n",
        "# Visualize the heatmap\n",
        "plt.figure(figsize=(10, 8))\n",
        "sns.heatmap(corr_matrix_spearman,\n",
        "            annot=True,\n",
        "            cmap='coolwarm',\n",
        "            linewidths=0.5,\n",
        "            annot_kws={\"fontsize\": 16, \"fontweight\": \"bold\"})\n",
        "\n",
        "plt.title('Spearman Correlation')\n",
        "plt.show()\n",
        "\n",
        "# Note couldve added age here too but wouldve required some configuration of the dataframe as dont want OHE columns in here,\n",
        "# next time do OHE as a final step as it explodes features, corr coeff matrix not required in rubric so not done for data without 2 features or age added as heavy discussion not required, interesting to look at however\n",
        "# credt>attendance>absence>contact hrs"
      ],
      "metadata": {
        "id": "UdNoGIWdvDKK"
      },
      "execution_count": null,
      "outputs": []
    },
    {
      "cell_type": "markdown",
      "metadata": {
        "id": "3FWwwBR4kXLA"
      },
      "source": [
        "# 2. XGBoost models\n",
        "\n",
        "\n",
        "\n"
      ]
    },
    {
      "cell_type": "markdown",
      "metadata": {
        "id": "7VqC6YZEHmI_"
      },
      "source": [
        "## 2.1 XGBoost model (without tuning)"
      ]
    },
    {
      "cell_type": "markdown",
      "metadata": {
        "id": "KQrAVcP-fpY5"
      },
      "source": [
        "- Binary Classification:\n",
        "\n",
        "Initialize XGBoost classifier\n",
        "\n",
        "default values is as below, no need to explicitly specify in this instance excpet for eval metric which I want to be constant\n",
        "\n",
        "model = xgb.XGBClassifier(objective='binary:logistic', eval_metric='logloss')\n"
      ]
    },
    {
      "cell_type": "code",
      "execution_count": null,
      "metadata": {
        "id": "mQx10Ezx9CTA"
      },
      "outputs": [],
      "source": [
        "# F1 evaluation function\n",
        "def f1_eval(y_pred, dtrain):\n",
        "    y_true = dtrain.get_label()\n",
        "    err = 1-f1_score(y_true, np.round(y_pred))\n",
        "    return 'f1_err', err"
      ]
    },
    {
      "cell_type": "code",
      "execution_count": null,
      "metadata": {
        "id": "2ja2bi0iWCoF"
      },
      "outputs": [],
      "source": [
        "xgb_model = xgb.XGBClassifier(eval_metric=f1_eval)\n",
        "xgb_model.fit(X_train, y_train)\n",
        "\n",
        "# Model Evaluation - classification report\n",
        "predictions = xgb_model.predict(X_test)\n",
        "\n",
        "print(f\"XGB model Accuracy: {accuracy_score(y_test, predictions)}\")\n",
        "print(classification_report(y_test, predictions))\n",
        "\n",
        "cm = confusion_matrix(y_test, predictions)\n",
        "\n",
        "# Calculate the AUC score - note that ROC not requested nor plot, can do later if have time, bit easier to understand with a plot for me\n",
        "\n",
        "y_proba = xgb_model.predict_proba(X_test)[:, 1]\n",
        "\n",
        "auc_score = roc_auc_score(y_test,y_proba)\n",
        "\n",
        "print(f\" AUC score {auc_score}\")\n",
        "\n",
        "# Plot confusion matrix\n",
        "sns.heatmap(cm, annot=True, fmt ='d', cmap= 'Blues')\n",
        "plt.title('Confusion matrix for classification - XGBoost model without tuning')\n",
        "plt.xlabel('Predicted labels by model')\n",
        "plt.ylabel('True labels / Observed / Reality')\n",
        "plt.show()\n",
        "\n",
        "# cfmd = ConfusionMatrixDisplay(confusion_matrix=cm, display_labels=xgb_model.classes_)\n",
        "# cfmd.plot()\n",
        "# plt.show()"
      ]
    },
    {
      "cell_type": "markdown",
      "metadata": {
        "id": "s2uH9yCQalKX"
      },
      "source": [
        "For an imbalanced data set, accuracy is not particularly useful. F1 score is more valuable as it balances both precision and recall, along with AUC score to compare models."
      ]
    },
    {
      "cell_type": "markdown",
      "metadata": {
        "id": "BiLqxHs6UDcG"
      },
      "source": [
        "![image.png](data:image/png;base64,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)"
      ]
    },
    {
      "cell_type": "markdown",
      "metadata": {
        "id": "_VzXPwb4RomX"
      },
      "source": [
        "TP (True Positive): The number of positive samples correctly predicted as positive.\n",
        "\n",
        "TN (True Negative): The number of negative samples correctly predicted as negative.\n",
        "\n",
        "FP (False Positive): The number of negative samples incorrectly predicted as positive.\n",
        "\n",
        "FN (False Negative): The number of positive samples incorrectly predicted as negative."
      ]
    },
    {
      "cell_type": "markdown",
      "metadata": {
        "id": "7z0j2d72RuVE"
      },
      "source": [
        "----\n",
        "\n",
        "Precision is a measure of how many of the positive predictions made by the model are actually positive.\n",
        "\n",
        "\n",
        "High Precision: Indicates that when the model predicts a positive class, it is usually correct.\n",
        "\n",
        "Use Case: Important in scenarios where false positives are costly or undesirable - in this business case its preferable to have a false negative - where a student is incorrectly predicted as going to drop out but is not likely to over a case where a student is predicted of not dropping out but in fact does end up dropping out i.e a false positive - i.e false positives are costly here so we do not want to have many false positives. Therefore we prefer to have a high precision\n",
        "\n",
        "Recall measures how many of the actual positive cases were correctly identified by the model.\n",
        "\n",
        "High Recall: Indicates that the model is good at identifying positive cases.\n",
        "\n",
        "Use Case: Crucial when missing a positive case is costly. Here again we prefer to have a high recall.\n",
        "\n",
        "Note that there is a recall/precision tradeoff\n",
        "\n",
        "----"
      ]
    },
    {
      "cell_type": "markdown",
      "metadata": {
        "id": "3SHCYfzSeenB"
      },
      "source": [
        "## 2.2 XGBoost model tuning with and without extra features\n",
        "\n",
        "Setting the hyperparams to serach through"
      ]
    },
    {
      "cell_type": "code",
      "execution_count": null,
      "metadata": {
        "id": "LSyKD9S0eNyL"
      },
      "outputs": [],
      "source": [
        "# Define the parameter grid\n",
        "param_grid = {\n",
        "    'learning_rate': [0.001, 0.01, 0.1, 0.2, 0.3, 0.5],\n",
        "    'n_estimators': [50, 100, 200, 300, 400, 500],\n",
        "    'max_depth': [3, 4, 5, 6, 7]\n",
        "}"
      ]
    },
    {
      "cell_type": "markdown",
      "metadata": {
        "id": "ud4i-pjkZmuD"
      },
      "source": [
        "## 2.2 XGBoost model (with tuning)\n",
        "\n",
        "tuning for learning rate, max depth, number of estimators"
      ]
    },
    {
      "cell_type": "code",
      "execution_count": null,
      "metadata": {
        "id": "HJIUvB_Rdbsf"
      },
      "outputs": [],
      "source": [
        "# Setup the grid search\n",
        "grid_search = GridSearchCV(estimator=xgb_model, param_grid=param_grid, cv=None, scoring='roc_auc', verbose=1) # cross validation set to 0 for fair comparison with ANN which I did not use any cross validation for as slightly trickier to implement, so opted for a for loop\n",
        "\n",
        "# Perform the grid search\n",
        "grid_search.fit(X_train, y_train)\n",
        "\n",
        "# Get the best parameters and score\n",
        "print(f\"Best parameters: {grid_search.best_params_}\")\n",
        "print(f\"Best AUC score: {grid_search.best_score_}\")\n",
        "\n",
        "# Evaluate on test data\n",
        "best_model = grid_search.best_estimator_\n",
        "y_proba = best_model.predict_proba(X_test)[:, 1]"
      ]
    },
    {
      "cell_type": "code",
      "execution_count": null,
      "metadata": {
        "id": "1Va7N7ktmHzH"
      },
      "outputs": [],
      "source": [
        "best_params = grid_search.best_params_"
      ]
    },
    {
      "cell_type": "code",
      "execution_count": null,
      "metadata": {
        "id": "lie89c-HZwqx"
      },
      "outputs": [],
      "source": [
        "xgb_model = xgb.XGBClassifier(**best_params)\n",
        "xgb_model.fit(X_train, y_train)\n",
        "\n",
        "# Model Evaluation - classification report\n",
        "predictions = xgb_model.predict(X_test)\n",
        "print(f\"XGB model Accuracy: {accuracy_score(y_test, predictions)}\")\n",
        "print(classification_report(y_test, predictions))\n",
        "\n",
        "cm = confusion_matrix(y_test, predictions)\n",
        "\n",
        "# Calculate the AUC score - note that ROC not requested nor plot, can do later if have time, bit easier to understand with a plot for me\n",
        "\n",
        "y_proba = xgb_model.predict_proba(X_test)[:, 1]\n",
        "\n",
        "auc_score = roc_auc_score(y_test,y_proba)\n",
        "\n",
        "print(f\" AUC score for XGBoost model with hyperparameters tuned via grid search {auc_score}\")\n",
        "\n",
        "# Plot confusion matrix\n",
        "sns.heatmap(cm, annot=True, fmt ='d', cmap= 'Blues')\n",
        "plt.title('Confusion matrix for classification - XGBoost model with tuning')\n",
        "plt.xlabel('Predicted labels by model')\n",
        "plt.ylabel('True labels / Observed / Reality')\n",
        "plt.show()"
      ]
    },
    {
      "cell_type": "markdown",
      "metadata": {
        "id": "2bVDJeVDgte1"
      },
      "source": [
        "## 2.3 XGBoost model with additional columns - 'ContactHours', 'AttendancePercentage\n",
        "\n"
      ]
    },
    {
      "cell_type": "markdown",
      "metadata": {
        "id": "KhaG8s8L229r"
      },
      "source": [
        "### Run the model"
      ]
    },
    {
      "cell_type": "code",
      "execution_count": null,
      "metadata": {
        "id": "vBQcAD1UmFNs"
      },
      "outputs": [],
      "source": [
        "# Setup the grid search\n",
        "grid_search = GridSearchCV(estimator=xgb_model, param_grid=param_grid, cv=None, scoring='roc_auc', verbose=2)\n",
        "\n",
        "# Perform the grid search\n",
        "grid_search.fit(X_train_additional_features, y_train)\n",
        "\n",
        "# Get the best parameters and score\n",
        "print(f\"Best parameters: {grid_search.best_params_}\")\n",
        "print(f\"Best AUC score: {grid_search.best_score_}\")\n",
        "\n",
        "# Evaluate on test data\n",
        "best_model = grid_search.best_estimator_\n",
        "y_proba = best_model.predict_proba(X_test_additional_features)[:, 1]"
      ]
    },
    {
      "cell_type": "code",
      "execution_count": null,
      "metadata": {
        "id": "o_IoqKxorVgL"
      },
      "outputs": [],
      "source": [
        "best_params = grid_search.best_params_"
      ]
    },
    {
      "cell_type": "code",
      "execution_count": null,
      "metadata": {
        "id": "_1mJOFc2mI4Z"
      },
      "outputs": [],
      "source": [
        "xgb_model = xgb.XGBClassifier(**best_params)\n",
        "xgb_model.fit(X_train_additional_features, y_train)\n",
        "\n",
        "# Model Evaluation - classification report\n",
        "predictions = xgb_model.predict(X_test_additional_features)\n",
        "print(f\"XGB model Accuracy: {accuracy_score(y_test, predictions)}\")\n",
        "print(classification_report(y_test, predictions))\n",
        "\n",
        "cm = confusion_matrix(y_test, predictions)\n",
        "\n",
        "# Calculate the AUC score - note that ROC not requested nor plot, can do later if have time, bit easier to understand with a plot for me\n",
        "auc_score = roc_auc_score(y_test,y_proba)\n",
        "print(f\" AUC score for XGBoost model with hyperparameters tuned via grid search {auc_score}\")\n",
        "\n",
        "# Plot confusion matrix\n",
        "sns.heatmap(cm, annot=True, fmt ='d', cmap= 'Blues')\n",
        "plt.title('Confusion matrix for classification - XGBoost model with tuning and extra features')\n",
        "plt.xlabel('Predicted labels by model')\n",
        "plt.ylabel('True labels / Observed / Reality')\n",
        "plt.show()"
      ]
    },
    {
      "cell_type": "markdown",
      "metadata": {
        "id": "NM_uCuZbrP03"
      },
      "source": [
        "The model with additional features has the highest model accuracy and highest AUC score.\n",
        "\n",
        "Come back to this interpretation later\n",
        "\n",
        "A benefit is the precision and recall for predicting (our postive class - where students completed the course) 1 has improved significantly where we have added more features with only a slight decrease in the precision of 0.\n",
        "\n",
        "The impact of our recall increasing from 076/0.73 to 0.83 means that for our positive class observations - we are able to capture more of them, i.e our model now correctly identifies more positive cases i.e successes so we are less likely to flag a student to fail when in fact they are going to pass. This is shown by our TN rate going up (bottom RHS).\n",
        "\n",
        "Our FPs top right has gone up - The number of negative samples incorrectly predicted as 0 . - i.e where a student is going to fail but has been incorrectly been predicted to pass - this is not ideal actually as not completing the course is costly.\n",
        "\n",
        "TP top left - The number of positive samples correctly predicted as positive. i.e our model correctly predicting a student to pass has gone up, this is good\n",
        "The number of positive samples correctly predicted as positive.\n",
        "\n",
        "FN bottom lhs - The number of positive samples incorrectly predicted as negative.\n"
      ]
    },
    {
      "cell_type": "markdown",
      "metadata": {
        "id": "OpLDoizj2BwK"
      },
      "source": [
        "### 2.4 Features importance"
      ]
    },
    {
      "cell_type": "code",
      "execution_count": null,
      "metadata": {
        "id": "jYvs-FBb3oqH"
      },
      "outputs": [],
      "source": [
        "X_train_additional_features = pd.DataFrame(X_train_additional_features, columns=X_additional_features.columns)"
      ]
    },
    {
      "cell_type": "code",
      "execution_count": null,
      "metadata": {
        "id": "cvAUdXHI17WK"
      },
      "outputs": [],
      "source": [
        "# Get feature importances\n",
        "feature_importances = pd.Series(xgb_model.feature_importances_, index=X_train_additional_features.columns).sort_values()\n",
        "\n",
        "# Plot all feature importances\n",
        "fig, ax = plt.subplots() # add figsize=(8, 16) inside bracket if want to see all the names\n",
        "feature_importances.plot.barh(ax=ax)\n",
        "ax.grid(False)\n",
        "ax.set_title('Feature Importances')\n",
        "plt.show()\n",
        "\n",
        "# Plot the last 10 feature importances\n",
        "fig, ax = plt.subplots()\n",
        "feature_importances.iloc[-10:].plot.barh(ax=ax)\n",
        "ax.grid(True)\n",
        "ax.set_title('Top 10 Features')  # Adding title to the second plot\n",
        "plt.show()"
      ]
    },
    {
      "cell_type": "markdown",
      "metadata": {
        "id": "MJhQeelV9o9U"
      },
      "source": [
        "AttendancePercentage is ranked 7th in feature importance while contact hours is 12th (2 extra features)"
      ]
    },
    {
      "cell_type": "code",
      "execution_count": null,
      "metadata": {
        "id": "cZtG6bpM9_wv"
      },
      "outputs": [],
      "source": [
        "\"\"\"\n",
        "Couldnt get this to work\n",
        "\n",
        "# Get feature importances and sort them\n",
        "feature_importances = pd.Series(xgb_model.feature_importances_, index=X_train_additional_features.columns).sort_values()\n",
        "\n",
        "# Define the features you are interested in\n",
        "features_of_interest = ['ContactHours', 'AttendancePercentage']\n",
        "\n",
        "# Find the rank of each feature\n",
        "for feature in features_of_interest:\n",
        "    if feature in feature_importances.index:\n",
        "        rank = feature_importances.index.get_loc(feature) + 1  # +1 for 1-based rank\n",
        "        print(f\"The rank of {feature} in terms of feature importance is: {rank}\")\n",
        "    else:\n",
        "        print(f\"{feature} not found in feature importances.\")\n",
        "\"\"\""
      ]
    },
    {
      "cell_type": "markdown",
      "metadata": {
        "id": "2_bnuVPY46e4"
      },
      "source": [
        "# 3. ANN models"
      ]
    },
    {
      "cell_type": "markdown",
      "metadata": {
        "id": "e8Yxk0KTf5tV"
      },
      "source": [
        "## 3.1 ANN model without tuning"
      ]
    },
    {
      "cell_type": "code",
      "execution_count": null,
      "metadata": {
        "id": "UoZLr2OpbqoD"
      },
      "outputs": [],
      "source": [
        "def create_ANN_model(X_train, n_neurons, optimizer, activation, n_hidden_layers):\n",
        "    # Input shape for my input layer\n",
        "    input_shape = X_train.shape[1:]\n",
        "    print(f\"Number of neurons for the input layer as a result of the shape of the object fed in is : {input_shape}\")  # This should be 70 or 72 depending on if I added extra features\n",
        "    print(f\"The optimizer selected is : {optimizer}\")\n",
        "\n",
        "    # Define the input layer\n",
        "    input_layer = tf.keras.layers.Input(shape=input_shape)\n",
        "\n",
        "    # Define the hidden layer with the specified number of neurons and activation function\n",
        "    hidden = tf.keras.layers.Dense(n_neurons, activation=activation)(input_layer)\n",
        "\n",
        "    # Add additional hidden layers as specified\n",
        "    for _ in range(n_hidden_layers - 1):\n",
        "        hidden = tf.keras.layers.Dense(n_neurons, activation=activation)(hidden)\n",
        "\n",
        "    # Define the output layer with sigmoid activation for binary classification\n",
        "    output_layer = tf.keras.layers.Dense(1, activation=\"sigmoid\")(hidden)\n",
        "\n",
        "    # Specify the model, saying which are the inputs and which are the outputs of the Functional Model.\n",
        "    model = tf.keras.Model(inputs=[input_layer], outputs=[output_layer])\n",
        "\n",
        "    # Compile the model with the specified optimizer\n",
        "    model.compile(\n",
        "        optimizer=optimizer,\n",
        "        loss=\"binary_crossentropy\",\n",
        "        metrics=['accuracy'] # I could change this to recall, precision etc but dont think it really matters as will be using confusion matrix\n",
        "    )\n",
        "\n",
        "    return model"
      ]
    },
    {
      "cell_type": "code",
      "execution_count": null,
      "metadata": {
        "id": "EfSO_aQXhP3e"
      },
      "outputs": [],
      "source": [
        "epochs = 15\n",
        "batch_size = 32\n",
        "n_neurons = 140\n",
        "optimizer = 'adam'\n",
        "activation = 'relu'\n",
        "n_hidden_layers = 3\n",
        "\n",
        "# Create and train the model\n",
        "ANN_model_unoptimised = create_ANN_model(X_train, n_neurons, optimizer, activation, n_hidden_layers)\n",
        "ANN_model_unoptimised_history = ANN_model_unoptimised.fit(X_train, y_train, validation_split=0.2, verbose=1, epochs=epochs, batch_size=batch_size)\n",
        "\n",
        "loss, accuracy = ANN_model_unoptimised.evaluate(X_test, y_test, verbose=1)\n",
        "print(f\"Loss: {loss}, Accuracy: {accuracy}\")"
      ]
    },
    {
      "cell_type": "code",
      "execution_count": null,
      "metadata": {
        "id": "qUJxE8aqSfWh"
      },
      "outputs": [],
      "source": [
        "# Initialize lists for storing results and histories\n",
        "ANN_model_unoptimised_results = []\n",
        "ANN_model_unoptimised_histories = []\n",
        "\n",
        "# Append results\n",
        "ANN_model_unoptimised_results.append({\n",
        "    'neurons': n_neurons,\n",
        "    'optimizer': optimizer,\n",
        "    'activation': activation,\n",
        "    'loss': loss,\n",
        "    'accuracy': accuracy\n",
        "})\n",
        "\n",
        "# Store history for plotting\n",
        "ANN_model_unoptimised_histories.append({\n",
        "    'neurons': n_neurons,\n",
        "    'activation': activation,\n",
        "    'optimizer': optimizer,\n",
        "    'loss': ANN_model_unoptimised_history.history['loss'],\n",
        "    'val_loss': ANN_model_unoptimised_history.history['val_loss'],\n",
        "    'accuracy': ANN_model_unoptimised_history.history['accuracy'],\n",
        "    'val_accuracy': ANN_model_unoptimised_history.history['val_accuracy']\n",
        "})"
      ]
    },
    {
      "cell_type": "code",
      "execution_count": null,
      "metadata": {
        "id": "CSOUnX3lUwv2"
      },
      "outputs": [],
      "source": [
        "# Only one entry in the list\n",
        "history = ANN_model_unoptimised_histories[0]\n",
        "history"
      ]
    },
    {
      "cell_type": "code",
      "execution_count": null,
      "metadata": {
        "id": "ghxSxukeV5Op"
      },
      "outputs": [],
      "source": [
        "# Create a figure and set of subplots\n",
        "fig, (ax1, ax2) = plt.subplots(1, 2, figsize=(16, 6))\n",
        "\n",
        "# Plotting losses\n",
        "epochs_range = range(1, len(history['loss']) + 1)\n",
        "ax1.plot(epochs_range, history['loss'], label=f'{history[\"optimizer\"]} - {history[\"neurons\"]} neurons - {history[\"activation\"]} - Train', linestyle='-')\n",
        "ax1.plot(epochs_range, history['val_loss'], label=f'{history[\"optimizer\"]} - {history[\"neurons\"]} neurons - {history[\"activation\"]} - Validation', linestyle='--')\n",
        "\n",
        "ax1.set_title('ANN - Loss comparison without tuning hyperparameters')\n",
        "ax1.set_xlabel('Epochs')\n",
        "ax1.set_ylabel('Loss')\n",
        "ax1.legend(loc='best')\n",
        "ax1.grid(True)\n",
        "\n",
        "# Plotting accuracies\n",
        "epochs_range = range(1, len(history['accuracy']) + 1)\n",
        "ax2.plot(epochs_range, history['accuracy'], label=f'{history[\"optimizer\"]} - {history[\"neurons\"]} neurons - {history[\"activation\"]} - Train', linestyle='-')\n",
        "ax2.plot(epochs_range, history['val_accuracy'], label=f'{history[\"optimizer\"]} - {history[\"neurons\"]} neurons - {history[\"activation\"]} - Validation', linestyle='--')\n",
        "\n",
        "ax2.set_title('ANN - Accuracy comparison without tuning hyperparameters')\n",
        "ax2.set_xlabel('Epochs')\n",
        "ax2.set_ylabel('Accuracy')\n",
        "ax2.legend(loc='best')\n",
        "ax2.grid(True)\n",
        "\n",
        "# Adjust layout\n",
        "plt.tight_layout()\n",
        "\n",
        "# Show plots\n",
        "plt.show()"
      ]
    },
    {
      "cell_type": "code",
      "execution_count": null,
      "metadata": {
        "id": "7ueUTaIOT-6p"
      },
      "outputs": [],
      "source": [
        "# Plotting losses\n",
        "plt.figure(figsize=(12, 6))\n",
        "epochs_range = range(1, len(history['loss']) + 1)\n",
        "plt.plot(epochs_range, history['loss'], label=f'{history[\"optimizer\"]} - {history[\"neurons\"]} neurons - {history[\"activation\"]} - Train', linestyle='-')\n",
        "plt.plot(epochs_range, history['val_loss'], label=f'{history[\"optimizer\"]} - {history[\"neurons\"]} neurons - {history[\"activation\"]} - Validation', linestyle='--')\n",
        "\n",
        "plt.title('ANN - Loss comparison without tuning hyperparameters')\n",
        "plt.xlabel('Epochs')\n",
        "plt.ylabel('Loss')\n",
        "# Move the legend outside the plot\n",
        "plt.legend(loc='right', bbox_to_anchor=(1.3, 0.5))\n",
        "plt.grid(True)\n",
        "plt.show()"
      ]
    },
    {
      "cell_type": "code",
      "execution_count": null,
      "metadata": {
        "id": "xB1_MsfER3ne"
      },
      "outputs": [],
      "source": [
        "# Plotting accuracys\n",
        "plt.figure(figsize=(12, 6))\n",
        "epochs_range = range(1, len(history['accuracy']) + 1)\n",
        "plt.plot(epochs_range, history['accuracy'], label=f'{history[\"optimizer\"]} - {history[\"neurons\"]} neurons - {history[\"activation\"]} - Train', linestyle='-')\n",
        "plt.plot(epochs_range, history['val_accuracy'], label=f'{history[\"optimizer\"]} - {history[\"neurons\"]} neurons - {history[\"activation\"]} - Validation', linestyle='--')\n",
        "\n",
        "plt.title('ANN - Accuracy comparison without tuning hyperparameters')\n",
        "plt.xlabel('Epochs')\n",
        "plt.ylabel('accuracy')\n",
        "# Move the legend outside the plot\n",
        "plt.legend(loc='right', bbox_to_anchor=(1.3, 0.5))\n",
        "plt.grid(True)\n",
        "plt.show()"
      ]
    },
    {
      "cell_type": "code",
      "execution_count": null,
      "metadata": {
        "id": "b4Wqt5H0WY6l"
      },
      "outputs": [],
      "source": [
        "# Model Evaluation - classification report\n",
        "predictions = (ANN_model_unoptimised.predict(X_test) > 0.5).astype(int) # note that this is the threshold, default of 0.5 being used - how could I adjust this to change precision, recall etc\n",
        "print(f\"ANN_model_unoptimised accuracy: {accuracy_score(y_test, predictions)}\")\n",
        "print(classification_report(y_test, predictions))\n",
        "\n",
        "cm = confusion_matrix(y_test, predictions)\n",
        "\n",
        "# Calculate the AUC score - note that ROC not requested nor plot, can do later if have time, bit easier to understand with a plot for me\n",
        "\n",
        "y_proba_ANN_unoptimised = ANN_model_unoptimised.predict(X_test).ravel()\n",
        "\n",
        "auc_score_ANN_unoptimised = roc_auc_score(y_test,y_proba_ANN_unoptimised)\n",
        "\n",
        "print(f\" AUC score ANN unoptimised {auc_score_ANN_unoptimised}\")\n",
        "\n",
        "# Plot confusion matrix\n",
        "sns.heatmap(cm, annot=True, fmt ='d', cmap= 'Blues')\n",
        "plt.title('ANN - Confusion matrix for classification without tuning')\n",
        "plt.xlabel('Predicted labels by model')\n",
        "plt.ylabel('True labels / Observed / Reality')\n",
        "plt.show()"
      ]
    },
    {
      "cell_type": "markdown",
      "metadata": {
        "id": "YOFkgI2Zax_o"
      },
      "source": [
        "## 3.2 Tuning ANN with and without extra features"
      ]
    },
    {
      "cell_type": "markdown",
      "metadata": {
        "id": "--RIUBGUa4jr"
      },
      "source": [
        "Set the range of hyper parameters to be the same across the 2 models, with only the data being fed in (extra features or not changing)"
      ]
    },
    {
      "cell_type": "code",
      "execution_count": null,
      "metadata": {
        "id": "Hgap-FPcGxMq"
      },
      "outputs": [],
      "source": [
        "# Define hyperparameters correctly\n",
        "n_neurons = [72, 140, 280, 560]                      # apparently this is between 10-100 usually\n",
        "optimizers = ['adam', 'rmsprop', 'sgd']\n",
        "activations = ['relu', 'sigmoid', 'softmax', 'tanh'] # I would expect ReLU to be optimum, note that this activation is defining only the hidden layer activation, rather than the output layer as that is static at Sigmoid for a binary classification that is standard\n",
        "batch_size = 32\n",
        "epochs = 15\n",
        "n_hidden_layers = 3                                  # apparently between 1-5 depending on problems complexity see section 2.3.5 of lecture notes, though Giovanna in a lecture said never go below 3, 3 feels like a good middle ground so im happy with that"
      ]
    },
    {
      "cell_type": "code",
      "source": [
        "\"\"\"\n",
        "optimizers = [\n",
        "    SGD(learning_rate=0.01),                      # Basic SGD with a default learning rate\n",
        "    SGD(learning_rate=0.01, momentum=0.9),        # SGD with Momentum\n",
        "    RMSprop(learning_rate=0.001),                 # RMSprop for adaptive learning rate and stability\n",
        "    Adam(learning_rate=0.001),                    # Adam for adaptive learning rates and good performance across tasks\n",
        "    Adamax(learning_rate=0.002),                  # Adamax for potentially better stability\n",
        "    Nadam(learning_rate=0.001)                    # Nadam for combining Adam and Nesterov momentum\n",
        "]\n",
        "\"\"\""
      ],
      "metadata": {
        "id": "S6hL2DrAJaiX"
      },
      "execution_count": null,
      "outputs": []
    },
    {
      "cell_type": "markdown",
      "metadata": {
        "id": "6I867A4-bsQQ"
      },
      "source": [
        "## 3.2 ANN modle tuned - Optimising for number of neurons, optimisers and activations functions"
      ]
    },
    {
      "cell_type": "markdown",
      "metadata": {
        "id": "r4GFhGNY84VC"
      },
      "source": [
        "want to focus on metrics that accurately reflect how well your model identifies this negative class of 0.\n",
        "\n",
        "Precision would then be the accuracy of predicting dropouts.\n",
        "\n",
        "Recall would measure your model’s ability to find all potential dropouts.\n",
        "Given your goal, you might prioritize Recall to ensure you identify as many potential dropouts as possible, even if it means tolerating some false alarms (students predicted to drop out who don’t).\n",
        "\n",
        "The F1 Score could also be useful as it balances Precision and Recall, which might help if you also want to maintain a certain level of precision in your predictions."
      ]
    },
    {
      "cell_type": "code",
      "execution_count": null,
      "metadata": {
        "id": "_YNdqib4bpXJ"
      },
      "outputs": [],
      "source": [
        "ANN_model_optimised_results = []\n",
        "best_result_ANN_optimised = None # shouldnt need this\n",
        "\n",
        "target_class = 0  # Specify the class you want to optimize for (0 or 1) - recall  (haha) that 0 is dropout and 1 is completing the course, so my model is predicting for 0s rather than 1s which I guess is more common...\n",
        "# in future just make sure data reflects convention rather than changing metric, otherwise its confusing\n",
        "\n",
        "# Create a for loop for each hyperparameter\n",
        "for neurons in n_neurons:\n",
        "    for activation in activations:\n",
        "        for optimizer in optimizers:\n",
        "          print(f\"\\nTraining with {neurons} neurons, optimizer: {optimizer}, activation: {activation}, batch size: {batch_size}, epochs: {epochs}\")\n",
        "\n",
        "          # Create the model with current hyperparameters\n",
        "          ANN_model_optimised = create_ANN_model(X_train, neurons, optimizer, activation, n_hidden_layers=n_hidden_layers)\n",
        "\n",
        "          # Train the model\n",
        "          ANN_model_optimised_history = ANN_model_optimised.fit(X_train, y_train, validation_split=0.2, verbose=1, epochs=epochs, batch_size=batch_size)\n",
        "\n",
        "          # Evaluate the model\n",
        "          loss, accuracy = ANN_model_optimised.evaluate(X_test, y_test, verbose=1)\n",
        "\n",
        "          # Predict with the model\n",
        "          y_pred = (ANN_model_optimised.predict(X_test) > 0.5).astype(int)\n",
        "          # Calculate additional metrics\n",
        "          precision = precision_score(y_test, y_pred, pos_label=target_class, zero_division=0)\n",
        "          recall = recall_score(y_test, y_pred, pos_label=target_class)\n",
        "          f1 = f1_score(y_test, y_pred, pos_label=target_class)\n",
        "\n",
        "          # Append results\n",
        "          ANN_model_optimised_results.append({\n",
        "              'neurons': neurons,\n",
        "              #'epoch': epoch,\n",
        "              #'batch_size': batch_size,\n",
        "              'optimizer': optimizer,\n",
        "              'activation': activation,\n",
        "              'loss': loss,\n",
        "              'accuracy': accuracy,\n",
        "              'precision': precision,\n",
        "              'recall': recall,\n",
        "              'f1_score': f1,\n",
        "              'predictions': y_pred,\n",
        "              'loss_history': ANN_model_optimised_history.history['loss'],\n",
        "              'val_loss_history': ANN_model_optimised_history.history['val_loss'],\n",
        "              'accuracy_history': ANN_model_optimised_history.history['accuracy'],\n",
        "              'val_accuracy_history': ANN_model_optimised_history.history['val_accuracy']\n",
        "              })"
      ]
    },
    {
      "cell_type": "code",
      "source": [
        "# Create subplots\n",
        "fig, (ax1, ax2) = plt.subplots(1, 2, figsize=(18, 6))  # 1 row, 2 columns\n",
        "\n",
        "# Plotting losses on the first subplot\n",
        "for result in ANN_model_optimised_results:\n",
        "    epochs_range = range(1, len(result['loss_history']) + 1)\n",
        "    ax1.plot(epochs_range, result['loss_history'], label=f'{result[\"optimizer\"]} - {result[\"neurons\"]} neurons - {result[\"activation\"]} - Train Loss', linestyle='-')\n",
        "    ax1.plot(epochs_range, result['val_loss_history'], label=f'{result[\"optimizer\"]} - {result[\"neurons\"]} neurons - {result[\"activation\"]} - Validation Loss', linestyle='--')\n",
        "\n",
        "ax1.set_title('ANN - Loss Comparison During Tuning')\n",
        "ax1.set_xlabel('Epochs')\n",
        "ax1.set_ylabel('Loss')\n",
        "ax1.legend(loc='upper right', bbox_to_anchor=(1.2, 1))\n",
        "ax1.grid(True)\n",
        "\n",
        "# Plotting accuracies on the second subplot\n",
        "for result in ANN_model_optimised_results:\n",
        "    epochs_range = range(1, len(result['accuracy_history']) + 1)\n",
        "    ax2.plot(epochs_range, result['accuracy_history'], label=f'{result[\"optimizer\"]} - {result[\"neurons\"]} neurons - {result[\"activation\"]} - Train Accuracy', linestyle='-')\n",
        "    ax2.plot(epochs_range, result['val_accuracy_history'], label=f'{result[\"optimizer\"]} - {result[\"neurons\"]} neurons - {result[\"activation\"]} - Validation Accuracy', linestyle='--')\n",
        "\n",
        "ax2.set_title('ANN - Accuracy Comparison During Tuning')\n",
        "ax2.set_xlabel('Epochs')\n",
        "ax2.set_ylabel('Accuracy')\n",
        "ax2.legend(loc='upper right', bbox_to_anchor=(1.2, 1))\n",
        "ax2.grid(True)\n",
        "\n",
        "# Adjust layout to prevent overlap\n",
        "plt.tight_layout()\n",
        "\n",
        "# Show plots\n",
        "plt.show()"
      ],
      "metadata": {
        "id": "Sq3nO7NJLGjZ"
      },
      "execution_count": null,
      "outputs": []
    },
    {
      "cell_type": "code",
      "source": [
        "# Set the metric to optimize for (can be 'accuracy', 'precision', 'recall', or 'f1_score')\n",
        "metric_to_optimise_for = 'f1_score'\n",
        "\n",
        "# Initialize variables to track the best result\n",
        "best_metric_value = -1\n",
        "best_result_index = -1\n",
        "\n",
        "# Iterate over the results\n",
        "for index, result in enumerate(ANN_model_optimised_results):\n",
        "    # Get the current metric value\n",
        "    current_metric_value = result[metric_to_optimise_for]\n",
        "\n",
        "    # Check if the current metric value is the best so far\n",
        "    if current_metric_value > best_metric_value:\n",
        "        best_metric_value = current_metric_value\n",
        "        best_result_index = index\n",
        "\n",
        "# Get the best result based on the best index\n",
        "best_result_ANN_optimised = ANN_model_optimised_results[best_result_index]\n",
        "\n",
        "# Print the best result (optional)\n",
        "print(f\"Best result based on {metric_to_optimise_for}:\")\n",
        "print(best_result_ANN_optimised)"
      ],
      "metadata": {
        "id": "-iTGgJb8ZRvg"
      },
      "execution_count": null,
      "outputs": []
    },
    {
      "cell_type": "code",
      "execution_count": null,
      "metadata": {
        "id": "N4lGHAp1ZRvh"
      },
      "outputs": [],
      "source": [
        "best_result_ANN_optimised"
      ]
    },
    {
      "cell_type": "code",
      "execution_count": null,
      "metadata": {
        "id": "Y0nHMGphZRvh"
      },
      "outputs": [],
      "source": [
        "# Retrieve best parameters\n",
        "best_neurons = best_result_ANN_optimised['neurons']\n",
        "best_optimizer = best_result_ANN_optimised['optimizer']\n",
        "best_activation = best_result_ANN_optimised['activation']\n",
        "best_predictions = best_result_ANN_optimised['predictions']\n",
        "\n",
        "print(best_neurons)\n",
        "print(best_optimizer)\n",
        "print(best_activation)"
      ]
    },
    {
      "cell_type": "code",
      "execution_count": null,
      "metadata": {
        "id": "tXZhevaVZRvh"
      },
      "outputs": [],
      "source": [
        "# Access history from best_result_ANN_optimised\n",
        "history = best_result_ANN_optimised['loss_history']  # Training loss history\n",
        "val_history = best_result_ANN_optimised['val_loss_history']  # Validation loss history\n",
        "train_accuracy = best_result_ANN_optimised['accuracy_history']  # Training accuracy history\n",
        "val_accuracy = best_result_ANN_optimised['val_accuracy_history']  # Validation accuracy history\n",
        "\n",
        "# Construct plot labels\n",
        "train_loss_label = f'{best_result_ANN_optimised[\"optimizer\"]} - {best_result_ANN_optimised[\"neurons\"]} neurons - {best_result_ANN_optimised[\"activation\"]} - Train Loss'\n",
        "val_loss_label = f'{best_result_ANN_optimised[\"optimizer\"]} - {best_result_ANN_optimised[\"neurons\"]} neurons - {best_result_ANN_optimised[\"activation\"]} - Validation Loss'\n",
        "train_accuracy_label = f'{best_result_ANN_optimised[\"optimizer\"]} - {best_result_ANN_optimised[\"neurons\"]} neurons - {best_result_ANN_optimised[\"activation\"]} - Train Accuracy'\n",
        "val_accuracy_label = f'{best_result_ANN_optimised[\"optimizer\"]} - {best_result_ANN_optimised[\"neurons\"]} neurons - {best_result_ANN_optimised[\"activation\"]} - Validation Accuracy'\n",
        "\n",
        "# Create a figure and set of subplots\n",
        "fig, (ax1, ax2) = plt.subplots(1, 2, figsize=(16, 6))\n",
        "\n",
        "# Plotting losses\n",
        "epochs_range = range(1, len(history) + 1)\n",
        "ax1.plot(epochs_range, history, label=train_loss_label, linestyle='-')\n",
        "ax1.plot(epochs_range, val_history, label=val_loss_label, linestyle='--')\n",
        "\n",
        "ax1.set_title('ANN - Loss Comparison for the Best Hyperparameter Settings without Extra Features')\n",
        "ax1.set_xlabel('Epochs')\n",
        "ax1.set_ylabel('Loss')\n",
        "ax1.legend(loc='best')\n",
        "ax1.grid(True)\n",
        "\n",
        "# Plotting accuracies\n",
        "epochs_range = range(1, len(train_accuracy) + 1)\n",
        "ax2.plot(epochs_range, train_accuracy, label=train_accuracy_label, linestyle='-')\n",
        "ax2.plot(epochs_range, val_accuracy, label=val_accuracy_label, linestyle='--')\n",
        "\n",
        "ax2.set_title('ANN - Accuracy Comparison for the Best Hyperparameter Settings without Extra Features')\n",
        "ax2.set_xlabel('Epochs')\n",
        "ax2.set_ylabel('Accuracy')\n",
        "ax2.legend(loc='best')\n",
        "ax2.grid(True)\n",
        "\n",
        "# Adjust layout\n",
        "plt.tight_layout()\n",
        "\n",
        "# Show plots\n",
        "plt.show()"
      ]
    },
    {
      "cell_type": "code",
      "execution_count": null,
      "metadata": {
        "id": "6X57XCCwZRvi"
      },
      "outputs": [],
      "source": [
        "# Model Evaluation - classification report\n",
        "print(f\"ANN_model_optimised accuracy: {accuracy_score(y_test, best_predictions)}\")\n",
        "print(classification_report(y_test, best_predictions))\n",
        "\n",
        "cm = confusion_matrix(y_test, best_predictions)\n",
        "\n",
        "# Calculate the AUC score - note that ROC not requested nor plot, can do later if have time, bit easier to understand with a plot for me\n",
        "# y_proba_ANN_optimised = best_ANN_optimised.predict(X_test_additional_features).ravel()\n",
        "\n",
        "auc_score_ANN_optimised = roc_auc_score(y_test, best_predictions)\n",
        "\n",
        "print(f\" AUC score ANN optimised {auc_score_ANN_optimised}\")\n",
        "\n",
        "# Plot confusion matrix\n",
        "sns.heatmap(cm, annot=True, fmt ='d', cmap= 'Blues')\n",
        "plt.title('ANN - Confusion matrix for classification after tuning without extra features')\n",
        "plt.xlabel('Predicted labels by model')\n",
        "plt.ylabel('True labels / Observed / Reality')\n",
        "plt.show()"
      ]
    },
    {
      "cell_type": "markdown",
      "source": [
        "## Saving model\n",
        "\n",
        "come back to this"
      ],
      "metadata": {
        "id": "qHxPMdPqZjTl"
      }
    },
    {
      "cell_type": "code",
      "execution_count": null,
      "metadata": {
        "id": "htgeWeWFvYqF"
      },
      "outputs": [],
      "source": [
        "# Define the file path for saving the model\n",
        "test_ANN_optimised_save_path = 'ANN_optimised.h5'\n",
        "\n",
        "# Save the entire model (architecture, weights, and training configuration)\n",
        "ANN_model_optimised.save(test_ANN_optimised_save_path)\n",
        "\n",
        "print(f\"Model saved to {test_ANN_optimised_save_path}\")\n",
        "\n",
        "# To load the model later:\n",
        "test_loaded_model = tf.keras.models.load_model(test_ANN_optimised_save_path)\n",
        "print(\"Model loaded successfully\")\n",
        "\n",
        "# Evaluate the loaded model\n",
        "loss, accuracy = test_loaded_model.evaluate(X_test, y_test)\n",
        "print(f\"Loaded model - Test accuracy: {accuracy}\")\n",
        "\n",
        "# Can I do something with this?"
      ]
    },
    {
      "cell_type": "code",
      "execution_count": null,
      "metadata": {
        "id": "w-KmYD3zwpql"
      },
      "outputs": [],
      "source": [
        "test_loaded_model\n",
        "\n",
        "test_predictions = (test_loaded_model.predict(X_test) > 0.5).astype(int)"
      ]
    },
    {
      "cell_type": "markdown",
      "metadata": {
        "id": "Jo6oUQZVgYfP"
      },
      "source": [
        "## 3.3 ANN tuned with additional features"
      ]
    },
    {
      "cell_type": "markdown",
      "metadata": {
        "id": "sbBxldOxChdP"
      },
      "source": [
        "### Adding the features back in with relevant feature engineering"
      ]
    },
    {
      "cell_type": "code",
      "execution_count": null,
      "metadata": {
        "id": "60kCPlyga6b0"
      },
      "outputs": [],
      "source": [
        "X_train_additional_features\n",
        "X_test_additional_features"
      ]
    },
    {
      "cell_type": "markdown",
      "metadata": {
        "id": "AlUve7uSCfFt"
      },
      "source": [
        "### Run the model"
      ]
    },
    {
      "cell_type": "code",
      "execution_count": null,
      "metadata": {
        "id": "vvjmjyXuV-zh"
      },
      "outputs": [],
      "source": [
        "ANN_model_optimised_results = []\n",
        "best_result_ANN_optimised = None # shouldnt need this\n",
        "\n",
        "target_class = 0  # Specify the class you want to optimize for (0 or 1) - recall  (haha) that 0 is dropout and 1 is completing the course, so my model is predicting for 0s rather than 1s which I guess is more common...\n",
        "# in future just make sure data reflects convention rather than changing metric, otherwise its confusing\n",
        "\n",
        "# Create a for loop for each hyperparameter\n",
        "for neurons in n_neurons:\n",
        "    for activation in activations:\n",
        "        for optimizer in optimizers:\n",
        "          print(f\"\\nTraining with {neurons} neurons, optimizer: {optimizer}, activation: {activation}, batch size: {batch_size}, epochs: {epochs}\")\n",
        "\n",
        "          # Create the model with current hyperparameters\n",
        "          ANN_model_optimised = create_ANN_model(X_train_additional_features, neurons, optimizer, activation, n_hidden_layers=n_hidden_layers)\n",
        "\n",
        "          # Train the model\n",
        "          ANN_model_optimised_history = ANN_model_optimised.fit(X_train_additional_features, y_train, validation_split=0.2, verbose=1, epochs=epochs, batch_size=batch_size)\n",
        "\n",
        "          # Evaluate the model\n",
        "          loss, accuracy = ANN_model_optimised.evaluate(X_test_additional_features, y_test, verbose=1)\n",
        "\n",
        "          # Predict with the model\n",
        "          y_pred = (ANN_model_optimised.predict(X_test_additional_features) > 0.5).astype(int)\n",
        "          # Calculate additional metrics\n",
        "          precision = precision_score(y_test, y_pred, pos_label=target_class, zero_division=0)\n",
        "          recall = recall_score(y_test, y_pred, pos_label=target_class)\n",
        "          f1 = f1_score(y_test, y_pred, pos_label=target_class)\n",
        "\n",
        "          # Append results\n",
        "          ANN_model_optimised_results.append({\n",
        "              'neurons': neurons,\n",
        "              #'epoch': epoch,\n",
        "              #'batch_size': batch_size,\n",
        "              'optimizer': optimizer,\n",
        "              'activation': activation,\n",
        "              'loss': loss,\n",
        "              'accuracy': accuracy,\n",
        "              'precision': precision,\n",
        "              'recall': recall,\n",
        "              'f1_score': f1,\n",
        "              'predictions': y_pred,\n",
        "              'loss_history': ANN_model_optimised_history.history['loss'],\n",
        "              'val_loss_history': ANN_model_optimised_history.history['val_loss'],\n",
        "              'accuracy_history': ANN_model_optimised_history.history['accuracy'],\n",
        "              'val_accuracy_history': ANN_model_optimised_history.history['val_accuracy']\n",
        "              })"
      ]
    },
    {
      "cell_type": "code",
      "source": [
        "# Set the metric to optimize for (can be 'accuracy', 'precision', 'recall', or 'f1_score')\n",
        "metric_to_optimise_for = 'f1_score'\n",
        "\n",
        "# Initialize variables to track the best result\n",
        "best_metric_value = -1\n",
        "best_result_index = -1\n",
        "\n",
        "# Iterate over the results\n",
        "for index, result in enumerate(ANN_model_optimised_results):\n",
        "    # Get the current metric value\n",
        "    current_metric_value = result[metric_to_optimise_for]\n",
        "\n",
        "    # Check if the current metric value is the best so far\n",
        "    if current_metric_value > best_metric_value:\n",
        "        best_metric_value = current_metric_value\n",
        "        best_result_index = index\n",
        "\n",
        "# Get the best result based on the best index\n",
        "best_result_ANN_optimised = ANN_model_optimised_results[best_result_index]\n",
        "\n",
        "# Print the best result (optional)\n",
        "print(f\"Best result based on {metric_to_optimise_for}:\")\n",
        "print(best_result_ANN_optimised)"
      ],
      "metadata": {
        "id": "8Cj83msr1zYR"
      },
      "execution_count": null,
      "outputs": []
    },
    {
      "cell_type": "code",
      "execution_count": null,
      "metadata": {
        "id": "5cOTA0Q7WGbU"
      },
      "outputs": [],
      "source": [
        "best_result_ANN_optimised"
      ]
    },
    {
      "cell_type": "code",
      "execution_count": null,
      "metadata": {
        "id": "M0LWZaC3dlpa"
      },
      "outputs": [],
      "source": [
        "# Retrieve best parameters\n",
        "best_neurons = best_result_ANN_optimised['neurons']\n",
        "best_optimizer = best_result_ANN_optimised['optimizer']\n",
        "best_activation = best_result_ANN_optimised['activation']\n",
        "best_predictions = best_result_ANN_optimised['predictions']\n",
        "\n",
        "print(best_neurons)\n",
        "print(best_optimizer)\n",
        "print(best_activation)"
      ]
    },
    {
      "cell_type": "code",
      "execution_count": null,
      "metadata": {
        "id": "UvNH5PpgWXzF"
      },
      "outputs": [],
      "source": [
        "# Access history from best_result_ANN_optimised\n",
        "history = best_result_ANN_optimised['loss_history']  # Training loss history\n",
        "val_history = best_result_ANN_optimised['val_loss_history']  # Validation loss history\n",
        "train_accuracy = best_result_ANN_optimised['accuracy_history']  # Training accuracy history\n",
        "val_accuracy = best_result_ANN_optimised['val_accuracy_history']  # Validation accuracy history\n",
        "\n",
        "# Construct plot labels\n",
        "train_loss_label = f'{best_result_ANN_optimised[\"optimizer\"]} - {best_result_ANN_optimised[\"neurons\"]} neurons - {best_result_ANN_optimised[\"activation\"]} - Train Loss'\n",
        "val_loss_label = f'{best_result_ANN_optimised[\"optimizer\"]} - {best_result_ANN_optimised[\"neurons\"]} neurons - {best_result_ANN_optimised[\"activation\"]} - Validation Loss'\n",
        "train_accuracy_label = f'{best_result_ANN_optimised[\"optimizer\"]} - {best_result_ANN_optimised[\"neurons\"]} neurons - {best_result_ANN_optimised[\"activation\"]} - Train Accuracy'\n",
        "val_accuracy_label = f'{best_result_ANN_optimised[\"optimizer\"]} - {best_result_ANN_optimised[\"neurons\"]} neurons - {best_result_ANN_optimised[\"activation\"]} - Validation Accuracy'\n",
        "\n",
        "# Create a figure and set of subplots\n",
        "fig, (ax1, ax2) = plt.subplots(1, 2, figsize=(16, 6))\n",
        "\n",
        "# Plotting losses\n",
        "epochs_range = range(1, len(history) + 1)\n",
        "ax1.plot(epochs_range, history, label=train_loss_label, linestyle='-')\n",
        "ax1.plot(epochs_range, val_history, label=val_loss_label, linestyle='--')\n",
        "\n",
        "ax1.set_title('ANN - Loss Comparison for the Best Hyperparameter Settings with Extra Features')\n",
        "ax1.set_xlabel('Epochs')\n",
        "ax1.set_ylabel('Loss')\n",
        "ax1.legend(loc='best')\n",
        "ax1.grid(True)\n",
        "\n",
        "# Plotting accuracies\n",
        "epochs_range = range(1, len(train_accuracy) + 1)\n",
        "ax2.plot(epochs_range, train_accuracy, label=train_accuracy_label, linestyle='-')\n",
        "ax2.plot(epochs_range, val_accuracy, label=val_accuracy_label, linestyle='--')\n",
        "\n",
        "ax2.set_title('ANN - Accuracy Comparison for the Best Hyperparameter Settings with Extra Features')\n",
        "ax2.set_xlabel('Epochs')\n",
        "ax2.set_ylabel('Accuracy')\n",
        "ax2.legend(loc='best')\n",
        "ax2.grid(True)\n",
        "\n",
        "# Adjust layout\n",
        "plt.tight_layout()\n",
        "\n",
        "# Show plots\n",
        "plt.show()"
      ]
    },
    {
      "cell_type": "code",
      "execution_count": null,
      "metadata": {
        "id": "ZO261xNFWZ_3"
      },
      "outputs": [],
      "source": [
        "# Model Evaluation - classification report\n",
        "print(f\"ANN_model_optimised accuracy: {accuracy_score(y_test, best_predictions)}\")\n",
        "print(classification_report(y_test, best_predictions))\n",
        "\n",
        "cm = confusion_matrix(y_test, best_predictions)\n",
        "\n",
        "# Calculate the AUC score - note that ROC not requested nor plot, can do later if have time, bit easier to understand with a plot for me\n",
        "# y_proba_ANN_optimised = best_ANN_optimised.predict(X_test_additional_features).ravel()\n",
        "\n",
        "auc_score_ANN_optimised = roc_auc_score(y_test, best_predictions)\n",
        "\n",
        "print(f\" AUC score ANN optimised {auc_score_ANN_optimised}\")\n",
        "\n",
        "# Plot confusion matrix\n",
        "sns.heatmap(cm, annot=True, fmt ='d', cmap= 'Blues')\n",
        "plt.title('ANN - Confusion matrix for classification after tuning with extra features')\n",
        "plt.xlabel('Predicted labels by model')\n",
        "plt.ylabel('True labels / Observed / Reality')\n",
        "plt.show()"
      ]
    },
    {
      "cell_type": "markdown",
      "metadata": {
        "id": "JtJLQt1MmNvo"
      },
      "source": [
        "## Comparison of non tuned XGBoost/ANN models VS tuned XGBoost/ANN model VS XGBoost/ANN tuned + extra features\n",
        "\n",
        "\n",
        "\n"
      ]
    },
    {
      "cell_type": "markdown",
      "source": [
        "Graphs and tables removed for anonymity reasons\n",
        "\n",
        "The metrice to optimise for in all models was f1_score as it balances both precision and recall accuracy is not useful in an imbalanced data set, AUC score is more valuable.\n",
        "\n",
        "For the non tuned model - there were indications that there is overfitting around epoch 5 as after that the loss diverges between train and validation progressively getting worse, early stopping would be useful here to improve ANN performance.\n",
        "\n",
        "After hyperparameter tuning it was seen that XGboost performed better with a significantly higher AUC score, it has captured more true negatives - where a student is predicted to drop out and is observed to drop out - which is the goal of the model. If early stopping had been implemented for the ANN it is possible a similar level of performance could be achieved however that would increase the complexity, effort and time taken to build the ANN.\n",
        "\n",
        "When utilising the data set with additional features, both Xgboost and ANN achieve their best performance.\n",
        "\n",
        "The 2 extra features added are ContactHours and AttendancePercentage ranked 12th and 7th respectively, which the improved model performance, highlighting the importance of retaining as much data/features as possible when building ML models.\n",
        "\n",
        "The most important feature for predicting student dropout is CreditWeightedAverage.\n",
        "\n",
        "Conclusion\n",
        "Overall it can be concluded that XGboost performed better in this project where predicting student dropouts was the goal, as it had a higher AUC score in every single case, was computationally quicker, easier to implement and allows for feature importance to be plotted with ease compared to the ANN enabling better interpretability - at least using the tools specified in the rubric e.g SHAP was not applied.\n",
        "\n",
        "However it is possible that the ANN would perform better if regularisation and early stopping were implemented; this could be explored in future work.\n",
        "\n",
        "A consistent preprocessing step was applied where null values were removed to ensure fair comparison between XGBoost and the ANN. While this may have limited XGBoost's ability to leverage its built-in handling of nulls, it ensured standardized inputs for both models. In future work, it would be valuable to explore the impact of retaining nulls, as ANNs can be adapted to handle missing values through imputation or masking techniques.\n"
      ],
      "metadata": {
        "id": "viu6NFpMC6U4"
      }
    },
    {
      "cell_type": "markdown",
      "metadata": {
        "id": "ZBKesD-AZ_Vr"
      },
      "source": [
        "# Test bed"
      ]
    },
    {
      "cell_type": "markdown",
      "metadata": {
        "id": "8wVbbdkMdBxN"
      },
      "source": [
        "## Come back to try Keras grid search\n",
        "\n",
        "keras.wrapper, kerasClassifiers seems to not be working, try below\n",
        "\n",
        "Quickstart - https://adriangb.com/scikeras/stable/quickstart.html\n",
        "\n",
        "https://scikit-learn.org/stable/modules/generated/sklearn.pipeline.Pipeline.html#sklearn.pipeline.Pipeline\n"
      ]
    },
    {
      "cell_type": "code",
      "execution_count": null,
      "metadata": {
        "id": "3zT_2RZrtfZW"
      },
      "outputs": [],
      "source": []
    }
  ],
  "metadata": {
    "accelerator": "GPU",
    "colab": {
      "collapsed_sections": [
        "bulAikgSzGHM",
        "P6pNDOVIznW7",
        "aIZxh0IIzdYJ",
        "hkNZWSqL4H9W",
        "0pD7RAXy5x-G",
        "IHxPFGmgxSNd",
        "IlLa4Y_p28Jp",
        "7VqC6YZEHmI_",
        "3SHCYfzSeenB",
        "ud4i-pjkZmuD",
        "KhaG8s8L229r",
        "OpLDoizj2BwK",
        "JtJLQt1MmNvo",
        "e8Yxk0KTf5tV",
        "YOFkgI2Zax_o",
        "6I867A4-bsQQ",
        "qHxPMdPqZjTl",
        "sbBxldOxChdP",
        "AlUve7uSCfFt",
        "yQj6VOiKf92l",
        "q0ganjO3KKCS",
        "8wVbbdkMdBxN"
      ],
      "gpuType": "T4",
      "provenance": []
    },
    "kernelspec": {
      "display_name": "Python 3",
      "name": "python3"
    },
    "language_info": {
      "name": "python"
    }
  },
  "nbformat": 4,
  "nbformat_minor": 0
}